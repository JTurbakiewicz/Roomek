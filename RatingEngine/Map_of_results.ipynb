{
 "cells": [
  {
   "cell_type": "markdown",
   "metadata": {},
   "source": [
    "# Offer data rating\n",
    "### Input:"
   ]
  },
  {
   "cell_type": "code",
   "execution_count": null,
   "metadata": {
    "collapsed": true
   },
   "outputs": [],
   "source": [
    "host = 'localhost'\n",
    "database='roomekbot$offers'\n",
    "user='root'\n",
    "password='Ad4Gw2'\n",
    "city = 'Warszawa'\n",
    "sql_query = f\"select * from offers where city = '{city}'\" # and business_type = 'buy'\""
   ]
  },
  {
   "cell_type": "markdown",
   "metadata": {},
   "source": [
    "### Import database"
   ]
  },
  {
   "cell_type": "code",
   "execution_count": null,
   "metadata": {
    "collapsed": true
   },
   "outputs": [],
   "source": [
    "import mysql.connector\n",
    "from mysql.connector import Error\n",
    "\n",
    "try:\n",
    "    connection = mysql.connector.connect(host=host, database=database, user=user, password=password)\n",
    "    cursor = connection.cursor()\n",
    "    cursor.execute(sql_query)\n",
    "    records = cursor.fetchall()\n",
    "    \n",
    "    sql_query = \"describe offers\"\n",
    "    cursor = connection.cursor()\n",
    "    cursor.execute(sql_query)\n",
    "    titles = cursor.fetchall()\n",
    "    titles = [x[0] for x in titles]\n",
    "    \n",
    "except Error as e:\n",
    "    print(\"Error reading data from MySQL table\", e)\n",
    "finally:\n",
    "    if (connection.is_connected()):\n",
    "        connection.close()\n",
    "        cursor.close()"
   ]
  },
  {
   "cell_type": "markdown",
   "metadata": {},
   "source": [
    "### Create dataframe"
   ]
  },
  {
   "cell_type": "code",
   "execution_count": null,
   "metadata": {
    "scrolled": false
   },
   "outputs": [],
   "source": [
    "import pandas as pd\n",
    "import numpy as np\n",
    "import matplotlib.pyplot as plt\n",
    "\n",
    "df = pd.DataFrame(data=records, columns=titles)\n",
    "\n",
    "df.head()"
   ]
  },
  {
   "cell_type": "markdown",
   "metadata": {},
   "source": [
    "### Get center of the city"
   ]
  },
  {
   "cell_type": "code",
   "execution_count": null,
   "metadata": {
    "collapsed": true
   },
   "outputs": [],
   "source": [
    "import requests\n",
    "import json\n",
    "\n",
    "\n",
    "req = requests.get(url=f\"https://nominatim.openstreetmap.org/search/pl/{city}?format=json&addressdetails=1&limit=1\")\n",
    "\n",
    "lat=float(json.loads(req.text)[0]['lat'])\n",
    "lon=float(json.loads(req.text)[0]['lon'])"
   ]
  },
  {
   "cell_type": "markdown",
   "metadata": {},
   "source": [
    "### Create the map"
   ]
  },
  {
   "cell_type": "code",
   "execution_count": null,
   "metadata": {
    "collapsed": true
   },
   "outputs": [],
   "source": [
    "import folium\n",
    "\n",
    "m = folium.Map(\n",
    "    location=[lat, lon],\n",
    "    tiles='OpenStreetMap',   # OpenStreetMap, Stamen Terrain, Stamen Toner, Mapbox Bright, Mapbox Control Room\n",
    "    zoom_start=12,\n",
    "    control_scale=True\n",
    ")"
   ]
  },
  {
   "cell_type": "markdown",
   "metadata": {},
   "source": [
    "### Clusters for zooming out"
   ]
  },
  {
   "cell_type": "code",
   "execution_count": null,
   "metadata": {
    "collapsed": true,
    "scrolled": true
   },
   "outputs": [],
   "source": [
    "from folium.plugins import MarkerCluster # FastMarkerCluster\n",
    "\n",
    "Cluster_x = MarkerCluster()\n",
    "m.add_child(Cluster_x)\n",
    "\n",
    "for x in range(len(df['location_latitude'])):\n",
    "    Cluster_x.add_child(folium.Marker(location=[df['location_latitude'][x], df['location_longitude'][x]], popup=str(df['price'][x])))"
   ]
  },
  {
   "cell_type": "code",
   "execution_count": null,
   "metadata": {},
   "outputs": [],
   "source": [
    "# for x in range(len(df['location_latitude'])):\n",
    "#     folium.Marker(location=[df['location_latitude'][x], df['location_longitude'][x]], popup=str(df['price'][x])).add_to(m)\n",
    "\n",
    "m"
   ]
  },
  {
   "cell_type": "markdown",
   "metadata": {},
   "source": [
    "### Addditional objects"
   ]
  },
  {
   "cell_type": "code",
   "execution_count": null,
   "metadata": {
    "collapsed": true
   },
   "outputs": [],
   "source": [
    "##### Circle\n",
    "# folium.Circle(\n",
    "#     radius=100,\n",
    "#     location=[52.24, 21.05],\n",
    "#     popup='Test',\n",
    "#     color='crimson',\n",
    "#     fill=False,\n",
    "# ).add_to(m)"
   ]
  },
  {
   "cell_type": "code",
   "execution_count": null,
   "metadata": {
    "collapsed": true
   },
   "outputs": [],
   "source": [
    "##### CircleMarker\n",
    "# folium.CircleMarker(\n",
    "#     location=[52.20, 21.01],\n",
    "#     radius=50,\n",
    "#     popup='Test',\n",
    "#     color='#3186cc',\n",
    "#     fill=True,\n",
    "#     fill_color='#3186cc'\n",
    "# ).add_to(m)"
   ]
  },
  {
   "cell_type": "markdown",
   "metadata": {},
   "source": [
    "### Minimap"
   ]
  },
  {
   "cell_type": "code",
   "execution_count": null,
   "metadata": {
    "collapsed": true
   },
   "outputs": [],
   "source": [
    "##### MiniMap\n",
    "# from folium.plugins import MiniMap\n",
    "# minimap = MiniMap()\n",
    "# m.add_child(minimap)"
   ]
  },
  {
   "cell_type": "markdown",
   "metadata": {},
   "source": [
    "### Prices heatmap"
   ]
  },
  {
   "cell_type": "code",
   "execution_count": null,
   "metadata": {
    "collapsed": true
   },
   "outputs": [],
   "source": [
    "import numpy as np\n",
    "from folium.plugins import HeatMap\n",
    "\n",
    "datax = [df['location_latitude'], df['location_longitude'], df['price']/max(df['price'])]\n",
    "datax = list(map(list, zip(*datax)))"
   ]
  },
  {
   "cell_type": "code",
   "execution_count": null,
   "metadata": {},
   "outputs": [],
   "source": [
    "HeatMap(data=datax, name=\"Ceny\", min_opacity=0.5, max_zoom=16, max_val=1.0, radius=100, blur=20).add_to(m)\n",
    "\n",
    "m\n",
    "\n",
    "# m.save(os.path.join('results', 'Heatmap.html'))"
   ]
  },
  {
   "cell_type": "markdown",
   "metadata": {
    "collapsed": true
   },
   "source": [
    "### Save to file"
   ]
  },
  {
   "cell_type": "code",
   "execution_count": null,
   "metadata": {
    "collapsed": true
   },
   "outputs": [],
   "source": [
    "m.save('index.html')"
   ]
  },
  {
   "cell_type": "markdown",
   "metadata": {},
   "source": [
    "### Show average price isolines"
   ]
  },
  {
   "cell_type": "code",
   "execution_count": null,
   "metadata": {
    "collapsed": true
   },
   "outputs": [],
   "source": [
    "# TODO show average price isolines"
   ]
  },
  {
   "cell_type": "markdown",
   "metadata": {},
   "source": [
    "### Colorful districts"
   ]
  },
  {
   "cell_type": "code",
   "execution_count": null,
   "metadata": {
    "collapsed": true
   },
   "outputs": [],
   "source": [
    "# def my_color_function(feature):\n",
    "#     \"\"\"Maps low values to green and high values to red.\"\"\"\n",
    "#     if unemployment_dict[feature['id']] > 6.5:\n",
    "#         return '#ff0000'\n",
    "#     else:\n",
    "#         return '#008000'\n",
    "# m = folium.Map([43, -100], tiles='cartodbpositron', zoom_start=4)\n",
    "\n",
    "# folium.GeoJson(\n",
    "#     geo_json_data,\n",
    "#     style_function=lambda feature: {\n",
    "#         'fillColor': my_color_function(feature),\n",
    "#         'color': 'black',\n",
    "#         'weight': 2,\n",
    "#         'dashArray': '5, 5'\n",
    "#     }\n",
    "# ).add_to(m)\n",
    "\n",
    "# m.save(os.path.join('results', 'Colormaps_0.html'))\n",
    "\n",
    "# m"
   ]
  }
 ],
 "metadata": {
  "kernelspec": {
   "display_name": "Python 3",
   "language": "python",
   "name": "python3"
  },
  "language_info": {
   "codemirror_mode": {
    "name": "ipython",
    "version": 3
   },
   "file_extension": ".py",
   "mimetype": "text/x-python",
   "name": "python",
   "nbconvert_exporter": "python",
   "pygments_lexer": "ipython3",
   "version": "3.6.2"
  }
 },
 "nbformat": 4,
 "nbformat_minor": 2
}
