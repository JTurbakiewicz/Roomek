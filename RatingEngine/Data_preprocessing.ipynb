{
 "cells": [
  {
   "cell_type": "markdown",
   "metadata": {},
   "source": [
    "# Data preprocessing\n",
    "### Input:"
   ]
  },
  {
   "cell_type": "code",
   "execution_count": 12,
   "metadata": {
    "collapsed": true
   },
   "outputs": [],
   "source": [
    "host = 'localhost'\n",
    "database='roomekbot$offers'\n",
    "user='root'\n",
    "password='Ad4Gw2'\n",
    "sql_query = \"select * from offers where city = 'Warszawa' and business_type = 'rent' and housing_type = 'apartment'\""
   ]
  },
  {
   "cell_type": "markdown",
   "metadata": {},
   "source": [
    "### Import database"
   ]
  },
  {
   "cell_type": "code",
   "execution_count": 70,
   "metadata": {
    "collapsed": true
   },
   "outputs": [],
   "source": [
    "import mysql.connector\n",
    "from mysql.connector import Error\n",
    "\n",
    "try:\n",
    "    connection = mysql.connector.connect(host=host, database=database, user=user, password=password)\n",
    "    cursor = connection.cursor()\n",
    "    cursor.execute(sql_query)\n",
    "    records = cursor.fetchall()\n",
    "    \n",
    "    sql_query = \"describe offers\"\n",
    "    cursor = connection.cursor()\n",
    "    cursor.execute(sql_query)\n",
    "    titles = cursor.fetchall()\n",
    "    titles = [x[0] for x in titles]\n",
    "    \n",
    "except Error as e:\n",
    "    print(\"Error reading data from MySQL table\", e)\n",
    "finally:\n",
    "    if (connection.is_connected()):\n",
    "        connection.close()\n",
    "        cursor.close()"
   ]
  },
  {
   "cell_type": "markdown",
   "metadata": {},
   "source": [
    "### Create dataframe"
   ]
  },
  {
   "cell_type": "code",
   "execution_count": 71,
   "metadata": {},
   "outputs": [
    {
     "ename": "AssertionError",
     "evalue": "69 columns passed, passed data had 6 columns",
     "output_type": "error",
     "traceback": [
      "\u001b[1;31m---------------------------------------------------------------------------\u001b[0m",
      "\u001b[1;31mAssertionError\u001b[0m                            Traceback (most recent call last)",
      "\u001b[1;32m<ipython-input-71-7677cfe84e81>\u001b[0m in \u001b[0;36m<module>\u001b[1;34m()\u001b[0m\n\u001b[0;32m      3\u001b[0m \u001b[1;32mimport\u001b[0m \u001b[0mmatplotlib\u001b[0m\u001b[1;33m.\u001b[0m\u001b[0mpyplot\u001b[0m \u001b[1;32mas\u001b[0m \u001b[0mplt\u001b[0m\u001b[1;33m\u001b[0m\u001b[0m\n\u001b[0;32m      4\u001b[0m \u001b[1;33m\u001b[0m\u001b[0m\n\u001b[1;32m----> 5\u001b[1;33m \u001b[0mdf\u001b[0m \u001b[1;33m=\u001b[0m \u001b[0mpd\u001b[0m\u001b[1;33m.\u001b[0m\u001b[0mDataFrame\u001b[0m\u001b[1;33m(\u001b[0m\u001b[0mdata\u001b[0m\u001b[1;33m=\u001b[0m\u001b[0mrecords\u001b[0m\u001b[1;33m,\u001b[0m \u001b[0mcolumns\u001b[0m\u001b[1;33m=\u001b[0m\u001b[0mtitles\u001b[0m\u001b[1;33m)\u001b[0m\u001b[1;33m\u001b[0m\u001b[0m\n\u001b[0m\u001b[0;32m      6\u001b[0m \u001b[0mdf\u001b[0m\u001b[1;33m.\u001b[0m\u001b[0mhead\u001b[0m\u001b[1;33m(\u001b[0m\u001b[1;33m)\u001b[0m\u001b[1;33m\u001b[0m\u001b[0m\n",
      "\u001b[1;32m~\\AppData\\Local\\Programs\\Python\\Python36-32\\Lib\\site-packages\\pandas\\core\\frame.py\u001b[0m in \u001b[0;36m__init__\u001b[1;34m(self, data, index, columns, dtype, copy)\u001b[0m\n\u001b[0;32m    312\u001b[0m                     \u001b[1;32mif\u001b[0m \u001b[0mis_named_tuple\u001b[0m\u001b[1;33m(\u001b[0m\u001b[0mdata\u001b[0m\u001b[1;33m[\u001b[0m\u001b[1;36m0\u001b[0m\u001b[1;33m]\u001b[0m\u001b[1;33m)\u001b[0m \u001b[1;32mand\u001b[0m \u001b[0mcolumns\u001b[0m \u001b[1;32mis\u001b[0m \u001b[1;32mNone\u001b[0m\u001b[1;33m:\u001b[0m\u001b[1;33m\u001b[0m\u001b[0m\n\u001b[0;32m    313\u001b[0m                         \u001b[0mcolumns\u001b[0m \u001b[1;33m=\u001b[0m \u001b[0mdata\u001b[0m\u001b[1;33m[\u001b[0m\u001b[1;36m0\u001b[0m\u001b[1;33m]\u001b[0m\u001b[1;33m.\u001b[0m\u001b[0m_fields\u001b[0m\u001b[1;33m\u001b[0m\u001b[0m\n\u001b[1;32m--> 314\u001b[1;33m                     \u001b[0marrays\u001b[0m\u001b[1;33m,\u001b[0m \u001b[0mcolumns\u001b[0m \u001b[1;33m=\u001b[0m \u001b[0m_to_arrays\u001b[0m\u001b[1;33m(\u001b[0m\u001b[0mdata\u001b[0m\u001b[1;33m,\u001b[0m \u001b[0mcolumns\u001b[0m\u001b[1;33m,\u001b[0m \u001b[0mdtype\u001b[0m\u001b[1;33m=\u001b[0m\u001b[0mdtype\u001b[0m\u001b[1;33m)\u001b[0m\u001b[1;33m\u001b[0m\u001b[0m\n\u001b[0m\u001b[0;32m    315\u001b[0m                     \u001b[0mcolumns\u001b[0m \u001b[1;33m=\u001b[0m \u001b[0m_ensure_index\u001b[0m\u001b[1;33m(\u001b[0m\u001b[0mcolumns\u001b[0m\u001b[1;33m)\u001b[0m\u001b[1;33m\u001b[0m\u001b[0m\n\u001b[0;32m    316\u001b[0m \u001b[1;33m\u001b[0m\u001b[0m\n",
      "\u001b[1;32m~\\AppData\\Local\\Programs\\Python\\Python36-32\\Lib\\site-packages\\pandas\\core\\frame.py\u001b[0m in \u001b[0;36m_to_arrays\u001b[1;34m(data, columns, coerce_float, dtype)\u001b[0m\n\u001b[0;32m   5615\u001b[0m     \u001b[1;32mif\u001b[0m \u001b[0misinstance\u001b[0m\u001b[1;33m(\u001b[0m\u001b[0mdata\u001b[0m\u001b[1;33m[\u001b[0m\u001b[1;36m0\u001b[0m\u001b[1;33m]\u001b[0m\u001b[1;33m,\u001b[0m \u001b[1;33m(\u001b[0m\u001b[0mlist\u001b[0m\u001b[1;33m,\u001b[0m \u001b[0mtuple\u001b[0m\u001b[1;33m)\u001b[0m\u001b[1;33m)\u001b[0m\u001b[1;33m:\u001b[0m\u001b[1;33m\u001b[0m\u001b[0m\n\u001b[0;32m   5616\u001b[0m         return _list_to_arrays(data, columns, coerce_float=coerce_float,\n\u001b[1;32m-> 5617\u001b[1;33m                                dtype=dtype)\n\u001b[0m\u001b[0;32m   5618\u001b[0m     \u001b[1;32melif\u001b[0m \u001b[0misinstance\u001b[0m\u001b[1;33m(\u001b[0m\u001b[0mdata\u001b[0m\u001b[1;33m[\u001b[0m\u001b[1;36m0\u001b[0m\u001b[1;33m]\u001b[0m\u001b[1;33m,\u001b[0m \u001b[0mcollections\u001b[0m\u001b[1;33m.\u001b[0m\u001b[0mMapping\u001b[0m\u001b[1;33m)\u001b[0m\u001b[1;33m:\u001b[0m\u001b[1;33m\u001b[0m\u001b[0m\n\u001b[0;32m   5619\u001b[0m         return _list_of_dict_to_arrays(data, columns,\n",
      "\u001b[1;32m~\\AppData\\Local\\Programs\\Python\\Python36-32\\Lib\\site-packages\\pandas\\core\\frame.py\u001b[0m in \u001b[0;36m_list_to_arrays\u001b[1;34m(data, columns, coerce_float, dtype)\u001b[0m\n\u001b[0;32m   5694\u001b[0m         \u001b[0mcontent\u001b[0m \u001b[1;33m=\u001b[0m \u001b[0mlist\u001b[0m\u001b[1;33m(\u001b[0m\u001b[0mlib\u001b[0m\u001b[1;33m.\u001b[0m\u001b[0mto_object_array\u001b[0m\u001b[1;33m(\u001b[0m\u001b[0mdata\u001b[0m\u001b[1;33m)\u001b[0m\u001b[1;33m.\u001b[0m\u001b[0mT\u001b[0m\u001b[1;33m)\u001b[0m\u001b[1;33m\u001b[0m\u001b[0m\n\u001b[0;32m   5695\u001b[0m     return _convert_object_array(content, columns, dtype=dtype,\n\u001b[1;32m-> 5696\u001b[1;33m                                  coerce_float=coerce_float)\n\u001b[0m\u001b[0;32m   5697\u001b[0m \u001b[1;33m\u001b[0m\u001b[0m\n\u001b[0;32m   5698\u001b[0m \u001b[1;33m\u001b[0m\u001b[0m\n",
      "\u001b[1;32m~\\AppData\\Local\\Programs\\Python\\Python36-32\\Lib\\site-packages\\pandas\\core\\frame.py\u001b[0m in \u001b[0;36m_convert_object_array\u001b[1;34m(content, columns, coerce_float, dtype)\u001b[0m\n\u001b[0;32m   5753\u001b[0m             \u001b[1;31m# caller's responsibility to check for this...\u001b[0m\u001b[1;33m\u001b[0m\u001b[1;33m\u001b[0m\u001b[0m\n\u001b[0;32m   5754\u001b[0m             raise AssertionError('%d columns passed, passed data had %s '\n\u001b[1;32m-> 5755\u001b[1;33m                                  'columns' % (len(columns), len(content)))\n\u001b[0m\u001b[0;32m   5756\u001b[0m \u001b[1;33m\u001b[0m\u001b[0m\n\u001b[0;32m   5757\u001b[0m     \u001b[1;31m# provide soft conversion of object dtypes\u001b[0m\u001b[1;33m\u001b[0m\u001b[1;33m\u001b[0m\u001b[0m\n",
      "\u001b[1;31mAssertionError\u001b[0m: 69 columns passed, passed data had 6 columns"
     ]
    }
   ],
   "source": [
    "import pandas as pd\n",
    "import numpy as np\n",
    "import matplotlib.pyplot as plt\n",
    "\n",
    "df = pd.DataFrame(data=records, columns=titles)\n",
    "df.head()"
   ]
  },
  {
   "cell_type": "markdown",
   "metadata": {},
   "source": [
    "### Statistics - show amount of empty cells"
   ]
  },
  {
   "cell_type": "code",
   "execution_count": 72,
   "metadata": {},
   "outputs": [
    {
     "data": {
      "text/plain": [
       "offer_url                    0.0\n",
       "city                         0.0\n",
       "housing_type                 0.0\n",
       "business_type                0.0\n",
       "offer_name                   0.0\n",
       "offer_thumbnail_url          0.0\n",
       "price                        0.0\n",
       "total_price                  0.0\n",
       "street                       0.0\n",
       "district                     0.0\n",
       "date_of_the_offer            0.0\n",
       "offer_id                     0.0\n",
       "offer_text                   0.0\n",
       "offer_from                   0.0\n",
       "apartment_level              0.0\n",
       "furniture                    0.0\n",
       "type_of_building             0.0\n",
       "area                         0.0\n",
       "amount_of_rooms              0.0\n",
       "additional_rent              0.0\n",
       "price_per_m2                 0.0\n",
       "type_of_market               0.0\n",
       "security_deposit             0.0\n",
       "building_material            0.0\n",
       "windows                      0.0\n",
       "heating                      0.0\n",
       "building_year                0.0\n",
       "fit_out                      0.0\n",
       "ready_from                   0.0\n",
       "type_of_ownership            0.0\n",
       "                            ... \n",
       "cable_tv                     0.0\n",
       "closed_terrain               0.0\n",
       "monitoring_or_security       0.0\n",
       "entry_phone                  0.0\n",
       "antibulglar_doors_windows    0.0\n",
       "alarm_system                 0.0\n",
       "antibulglar_blinds           0.0\n",
       "dishwasher                   0.0\n",
       "cooker                       0.0\n",
       "fridge                       0.0\n",
       "oven                         0.0\n",
       "washing_machine              0.0\n",
       "tv                           0.0\n",
       "elevator                     0.0\n",
       "phone                        0.0\n",
       "AC                           0.0\n",
       "garden                       0.0\n",
       "bathtub                      0.0\n",
       "utility_room                 0.0\n",
       "parking_space                0.0\n",
       "terrace                      0.0\n",
       "balcony                      0.0\n",
       "separate_kitchen             0.0\n",
       "basement                     0.0\n",
       "virtual_walk                 0.0\n",
       "two_level_apartment          0.0\n",
       "connecting_room              0.0\n",
       "pet_friendly                 0.0\n",
       "creation_time                0.0\n",
       "modification_time            0.0\n",
       "Length: 69, dtype: float64"
      ]
     },
     "execution_count": 72,
     "metadata": {},
     "output_type": "execute_result"
    }
   ],
   "source": [
    "round(df.isnull().sum()/len(df)*1000)/10"
   ]
  },
  {
   "cell_type": "markdown",
   "metadata": {},
   "source": [
    "### Replace None and Nan with mean value or 0"
   ]
  },
  {
   "cell_type": "code",
   "execution_count": 75,
   "metadata": {},
   "outputs": [
    {
     "data": {
      "text/html": [
       "<div>\n",
       "<style>\n",
       "    .dataframe thead tr:only-child th {\n",
       "        text-align: right;\n",
       "    }\n",
       "\n",
       "    .dataframe thead th {\n",
       "        text-align: left;\n",
       "    }\n",
       "\n",
       "    .dataframe tbody tr th {\n",
       "        vertical-align: top;\n",
       "    }\n",
       "</style>\n",
       "<table border=\"1\" class=\"dataframe\">\n",
       "  <thead>\n",
       "    <tr style=\"text-align: right;\">\n",
       "      <th></th>\n",
       "      <th>offer_url</th>\n",
       "      <th>city</th>\n",
       "      <th>housing_type</th>\n",
       "      <th>business_type</th>\n",
       "      <th>offer_name</th>\n",
       "      <th>offer_thumbnail_url</th>\n",
       "      <th>price</th>\n",
       "      <th>total_price</th>\n",
       "      <th>street</th>\n",
       "      <th>district</th>\n",
       "      <th>...</th>\n",
       "      <th>terrace</th>\n",
       "      <th>balcony</th>\n",
       "      <th>separate_kitchen</th>\n",
       "      <th>basement</th>\n",
       "      <th>virtual_walk</th>\n",
       "      <th>two_level_apartment</th>\n",
       "      <th>connecting_room</th>\n",
       "      <th>pet_friendly</th>\n",
       "      <th>creation_time</th>\n",
       "      <th>modification_time</th>\n",
       "    </tr>\n",
       "  </thead>\n",
       "  <tbody>\n",
       "    <tr>\n",
       "      <th>0</th>\n",
       "      <td>https://www.olx.pl/oferta/2-oddzielne-pokoje-4...</td>\n",
       "      <td>Warszawa</td>\n",
       "      <td>apartment</td>\n",
       "      <td>rent</td>\n",
       "      <td>2 oddzielne pokoje 46 m wynajmę Nowe BEMOWO bl...</td>\n",
       "      <td>https://apollo-ireland.akamaized.net:443/v1/fi...</td>\n",
       "      <td>1699</td>\n",
       "      <td>1710.0</td>\n",
       "      <td>0</td>\n",
       "      <td>Bemowo</td>\n",
       "      <td>...</td>\n",
       "      <td>0.0</td>\n",
       "      <td>1.0</td>\n",
       "      <td>0.0</td>\n",
       "      <td>0.0</td>\n",
       "      <td>0</td>\n",
       "      <td>0</td>\n",
       "      <td>0.0</td>\n",
       "      <td>0.0</td>\n",
       "      <td>2019-11-21 19:48:20</td>\n",
       "      <td>0</td>\n",
       "    </tr>\n",
       "    <tr>\n",
       "      <th>1</th>\n",
       "      <td>https://www.olx.pl/oferta/2-pok-oddzielne-50-m...</td>\n",
       "      <td>Warszawa</td>\n",
       "      <td>apartment</td>\n",
       "      <td>rent</td>\n",
       "      <td>2 pok oddzielne,50 m2,balkon,garaż,tuż przy me...</td>\n",
       "      <td>https://apollo-ireland.akamaized.net:443/v1/fi...</td>\n",
       "      <td>2000</td>\n",
       "      <td>2400.0</td>\n",
       "      <td>0</td>\n",
       "      <td>Ursynów</td>\n",
       "      <td>...</td>\n",
       "      <td>0.0</td>\n",
       "      <td>1.0</td>\n",
       "      <td>0.0</td>\n",
       "      <td>0.0</td>\n",
       "      <td>0</td>\n",
       "      <td>0</td>\n",
       "      <td>0.0</td>\n",
       "      <td>0.0</td>\n",
       "      <td>2019-11-21 19:47:43</td>\n",
       "      <td>0</td>\n",
       "    </tr>\n",
       "    <tr>\n",
       "      <th>2</th>\n",
       "      <td>https://www.olx.pl/oferta/2-pok-z-m-post-wloda...</td>\n",
       "      <td>Warszawa</td>\n",
       "      <td>apartment</td>\n",
       "      <td>rent</td>\n",
       "      <td>2 pok z m. post. Włodarzewska, Szczęśliwice, O...</td>\n",
       "      <td>https://apollo-ireland.akamaized.net:443/v1/fi...</td>\n",
       "      <td>2490</td>\n",
       "      <td>2500.0</td>\n",
       "      <td>0</td>\n",
       "      <td>Ochota</td>\n",
       "      <td>...</td>\n",
       "      <td>0.0</td>\n",
       "      <td>1.0</td>\n",
       "      <td>0.0</td>\n",
       "      <td>0.0</td>\n",
       "      <td>0</td>\n",
       "      <td>0</td>\n",
       "      <td>0.0</td>\n",
       "      <td>0.0</td>\n",
       "      <td>2019-11-21 19:48:21</td>\n",
       "      <td>0</td>\n",
       "    </tr>\n",
       "    <tr>\n",
       "      <th>3</th>\n",
       "      <td>https://www.olx.pl/oferta/2-pokoje-40m2-srodmi...</td>\n",
       "      <td>Warszawa</td>\n",
       "      <td>apartment</td>\n",
       "      <td>rent</td>\n",
       "      <td>2 pokoje, 40m2, Śródmieście / Wola , ul. Sienn...</td>\n",
       "      <td>https://apollo-ireland.akamaized.net:443/v1/fi...</td>\n",
       "      <td>2300</td>\n",
       "      <td>2310.0</td>\n",
       "      <td>Sienna</td>\n",
       "      <td>Śródmieście</td>\n",
       "      <td>...</td>\n",
       "      <td>1.0</td>\n",
       "      <td>1.0</td>\n",
       "      <td>0.0</td>\n",
       "      <td>0.0</td>\n",
       "      <td>0</td>\n",
       "      <td>0</td>\n",
       "      <td>0.0</td>\n",
       "      <td>0.0</td>\n",
       "      <td>2019-11-21 19:47:42</td>\n",
       "      <td>0</td>\n",
       "    </tr>\n",
       "    <tr>\n",
       "      <th>4</th>\n",
       "      <td>https://www.olx.pl/oferta/2-pokoje-50m2-zolibo...</td>\n",
       "      <td>Warszawa</td>\n",
       "      <td>apartment</td>\n",
       "      <td>rent</td>\n",
       "      <td>2 pokoje - 50m2 - ŻOLIBORZ - bezpłatna SIŁOWNIA</td>\n",
       "      <td>https://apollo-ireland.akamaized.net:443/v1/fi...</td>\n",
       "      <td>2300</td>\n",
       "      <td>2900.0</td>\n",
       "      <td>Powazkowska</td>\n",
       "      <td>Żoliborz</td>\n",
       "      <td>...</td>\n",
       "      <td>0.0</td>\n",
       "      <td>1.0</td>\n",
       "      <td>0.0</td>\n",
       "      <td>1.0</td>\n",
       "      <td>0</td>\n",
       "      <td>0</td>\n",
       "      <td>0.0</td>\n",
       "      <td>0.0</td>\n",
       "      <td>2019-11-21 19:49:22</td>\n",
       "      <td>0</td>\n",
       "    </tr>\n",
       "  </tbody>\n",
       "</table>\n",
       "<p>5 rows × 69 columns</p>\n",
       "</div>"
      ],
      "text/plain": [
       "                                           offer_url      city housing_type  \\\n",
       "0  https://www.olx.pl/oferta/2-oddzielne-pokoje-4...  Warszawa    apartment   \n",
       "1  https://www.olx.pl/oferta/2-pok-oddzielne-50-m...  Warszawa    apartment   \n",
       "2  https://www.olx.pl/oferta/2-pok-z-m-post-wloda...  Warszawa    apartment   \n",
       "3  https://www.olx.pl/oferta/2-pokoje-40m2-srodmi...  Warszawa    apartment   \n",
       "4  https://www.olx.pl/oferta/2-pokoje-50m2-zolibo...  Warszawa    apartment   \n",
       "\n",
       "  business_type                                         offer_name  \\\n",
       "0          rent  2 oddzielne pokoje 46 m wynajmę Nowe BEMOWO bl...   \n",
       "1          rent  2 pok oddzielne,50 m2,balkon,garaż,tuż przy me...   \n",
       "2          rent  2 pok z m. post. Włodarzewska, Szczęśliwice, O...   \n",
       "3          rent  2 pokoje, 40m2, Śródmieście / Wola , ul. Sienn...   \n",
       "4          rent    2 pokoje - 50m2 - ŻOLIBORZ - bezpłatna SIŁOWNIA   \n",
       "\n",
       "                                 offer_thumbnail_url  price  total_price  \\\n",
       "0  https://apollo-ireland.akamaized.net:443/v1/fi...   1699       1710.0   \n",
       "1  https://apollo-ireland.akamaized.net:443/v1/fi...   2000       2400.0   \n",
       "2  https://apollo-ireland.akamaized.net:443/v1/fi...   2490       2500.0   \n",
       "3  https://apollo-ireland.akamaized.net:443/v1/fi...   2300       2310.0   \n",
       "4  https://apollo-ireland.akamaized.net:443/v1/fi...   2300       2900.0   \n",
       "\n",
       "        street     district        ...         terrace balcony  \\\n",
       "0            0       Bemowo        ...             0.0     1.0   \n",
       "1            0      Ursynów        ...             0.0     1.0   \n",
       "2            0       Ochota        ...             0.0     1.0   \n",
       "3       Sienna  Śródmieście        ...             1.0     1.0   \n",
       "4  Powazkowska     Żoliborz        ...             0.0     1.0   \n",
       "\n",
       "  separate_kitchen basement  virtual_walk  two_level_apartment  \\\n",
       "0              0.0      0.0             0                    0   \n",
       "1              0.0      0.0             0                    0   \n",
       "2              0.0      0.0             0                    0   \n",
       "3              0.0      0.0             0                    0   \n",
       "4              0.0      1.0             0                    0   \n",
       "\n",
       "  connecting_room  pet_friendly       creation_time  modification_time  \n",
       "0             0.0           0.0 2019-11-21 19:48:20                  0  \n",
       "1             0.0           0.0 2019-11-21 19:47:43                  0  \n",
       "2             0.0           0.0 2019-11-21 19:48:21                  0  \n",
       "3             0.0           0.0 2019-11-21 19:47:42                  0  \n",
       "4             0.0           0.0 2019-11-21 19:49:22                  0  \n",
       "\n",
       "[5 rows x 69 columns]"
      ]
     },
     "execution_count": 75,
     "metadata": {},
     "output_type": "execute_result"
    }
   ],
   "source": [
    "from sklearn.impute import SimpleImputer\n",
    "imputer = SimpleImputer(missing_values = np.nan, strategy = 'mean')\n",
    "# specify which columns to replace with mean value...\n",
    "# imputer = imputer.fit(df[:, 1:3])\n",
    "# df[:, 1:3] = imputer.transform(df[:, 1:3])\n",
    "\n",
    "# ... and which replace with zero:\n",
    "# df[10:14] = df.fillna(0, inplace=True)\n",
    "\n",
    "# or replace all with zeros:\n",
    "df.fillna(0, inplace=True)\n",
    "df.head()"
   ]
  },
  {
   "cell_type": "markdown",
   "metadata": {},
   "source": [
    "### Select only valuable data"
   ]
  },
  {
   "cell_type": "code",
   "execution_count": 119,
   "metadata": {},
   "outputs": [
    {
     "data": {
      "text/html": [
       "<div>\n",
       "<style>\n",
       "    .dataframe thead tr:only-child th {\n",
       "        text-align: right;\n",
       "    }\n",
       "\n",
       "    .dataframe thead th {\n",
       "        text-align: left;\n",
       "    }\n",
       "\n",
       "    .dataframe tbody tr th {\n",
       "        vertical-align: top;\n",
       "    }\n",
       "</style>\n",
       "<table border=\"1\" class=\"dataframe\">\n",
       "  <thead>\n",
       "    <tr style=\"text-align: right;\">\n",
       "      <th></th>\n",
       "      <th>total_price</th>\n",
       "      <th>date_of_the_offer</th>\n",
       "      <th>furniture</th>\n",
       "      <th>area</th>\n",
       "      <th>amount_of_rooms</th>\n",
       "      <th>parking_space</th>\n",
       "    </tr>\n",
       "  </thead>\n",
       "  <tbody>\n",
       "    <tr>\n",
       "      <th>0</th>\n",
       "      <td>1710.0</td>\n",
       "      <td>2019-11-21 15:16:00</td>\n",
       "      <td>1</td>\n",
       "      <td>46</td>\n",
       "      <td>2</td>\n",
       "      <td>0.0</td>\n",
       "    </tr>\n",
       "    <tr>\n",
       "      <th>1</th>\n",
       "      <td>2400.0</td>\n",
       "      <td>2019-11-21 18:45:00</td>\n",
       "      <td>0</td>\n",
       "      <td>45</td>\n",
       "      <td>2</td>\n",
       "      <td>1.0</td>\n",
       "    </tr>\n",
       "    <tr>\n",
       "      <th>2</th>\n",
       "      <td>2500.0</td>\n",
       "      <td>2019-11-21 15:24:00</td>\n",
       "      <td>1</td>\n",
       "      <td>43</td>\n",
       "      <td>2</td>\n",
       "      <td>1.0</td>\n",
       "    </tr>\n",
       "    <tr>\n",
       "      <th>3</th>\n",
       "      <td>2310.0</td>\n",
       "      <td>2019-11-21 18:16:00</td>\n",
       "      <td>1</td>\n",
       "      <td>40</td>\n",
       "      <td>2</td>\n",
       "      <td>0.0</td>\n",
       "    </tr>\n",
       "    <tr>\n",
       "      <th>4</th>\n",
       "      <td>2900.0</td>\n",
       "      <td>2019-11-21 18:09:00</td>\n",
       "      <td>1</td>\n",
       "      <td>50</td>\n",
       "      <td>2</td>\n",
       "      <td>0.0</td>\n",
       "    </tr>\n",
       "  </tbody>\n",
       "</table>\n",
       "</div>"
      ],
      "text/plain": [
       "   total_price   date_of_the_offer  furniture  area  amount_of_rooms  \\\n",
       "0       1710.0 2019-11-21 15:16:00          1    46                2   \n",
       "1       2400.0 2019-11-21 18:45:00          0    45                2   \n",
       "2       2500.0 2019-11-21 15:24:00          1    43                2   \n",
       "3       2310.0 2019-11-21 18:16:00          1    40                2   \n",
       "4       2900.0 2019-11-21 18:09:00          1    50                2   \n",
       "\n",
       "   parking_space  \n",
       "0            0.0  \n",
       "1            1.0  \n",
       "2            1.0  \n",
       "3            0.0  \n",
       "4            0.0  "
      ]
     },
     "execution_count": 119,
     "metadata": {},
     "output_type": "execute_result"
    }
   ],
   "source": [
    "X = df.drop([\n",
    "    'price',\n",
    "    'parsed_fields',\n",
    "    'offer_from',\n",
    "    'offer_url',\n",
    "    'offer_name',\n",
    "    'offer_thumbnail_url',\n",
    "    'offer_id',\n",
    "    'offer_text',\n",
    "    'creation_time',\n",
    "    'modification_time',\n",
    "    'city',\n",
    "    'housing_type',\n",
    "    'business_type',\n",
    "    'pet_friendly',\n",
    "    'rental_for_students',\n",
    "    'non_smokers_only',\n",
    "    'street'], axis=1)\n",
    "\n",
    "X_text = X[['district',\n",
    "            'apartment_level',\n",
    "            'type_of_building',\n",
    "            'type_of_market',\n",
    "            'building_material',\n",
    "            'windows',\n",
    "            'heating',\n",
    "            'type_of_ownership',\n",
    "            'type_of_room',\n",
    "            'preferred_locator',\n",
    "            'fit_out']]\n",
    "\n",
    "X_other = X[['location_latitude',\n",
    "             'location_longitude',\n",
    "#              'date_of_the_offer',\n",
    "             'ready_from',\n",
    "             'scraped_ranking',]]\n",
    "\n",
    "X_irrelevant = X[['additional_rent',\n",
    "             'building_year',\n",
    "             'internet',\n",
    "             'cable_tv',\n",
    "             'bathtub',\n",
    "             'utility_room',\n",
    "             'terrace',\n",
    "             'balcony',\n",
    "             'separate_kitchen',\n",
    "             'basement',\n",
    "             'virtual_walk',\n",
    "             'two_level_apartment',\n",
    "             'connecting_room',\n",
    "             'closed_terrain',\n",
    "             'monitoring_or_security',\n",
    "             'entry_phone',\n",
    "             'antibulglar_doors_windows',\n",
    "             'antibulglar_blinds',\n",
    "             'alarm_system',\n",
    "             'tv',\n",
    "             'phone',\n",
    "             'AC',\n",
    "             'garden',\n",
    "             'oven',\n",
    "             'fridge',\n",
    "             'cooker',\n",
    "             'price_per_m2',\n",
    "             'dishwasher',\n",
    "             'washing_machine',\n",
    "             'elevator',\n",
    "             'security_deposit',]]\n",
    "\n",
    "X = X.drop(list(X_text.columns)+list(X_other.columns)+list(X_irrelevant.columns), axis=1)\n",
    "X.head()"
   ]
  },
  {
   "cell_type": "markdown",
   "metadata": {},
   "source": [
    "### Scale date"
   ]
  },
  {
   "cell_type": "code",
   "execution_count": 131,
   "metadata": {},
   "outputs": [
    {
     "data": {
      "text/html": [
       "<div>\n",
       "<style>\n",
       "    .dataframe thead tr:only-child th {\n",
       "        text-align: right;\n",
       "    }\n",
       "\n",
       "    .dataframe thead th {\n",
       "        text-align: left;\n",
       "    }\n",
       "\n",
       "    .dataframe tbody tr th {\n",
       "        vertical-align: top;\n",
       "    }\n",
       "</style>\n",
       "<table border=\"1\" class=\"dataframe\">\n",
       "  <thead>\n",
       "    <tr style=\"text-align: right;\">\n",
       "      <th></th>\n",
       "      <th>total_price</th>\n",
       "      <th>date_of_the_offer</th>\n",
       "      <th>furniture</th>\n",
       "      <th>area</th>\n",
       "      <th>amount_of_rooms</th>\n",
       "      <th>parking_space</th>\n",
       "    </tr>\n",
       "  </thead>\n",
       "  <tbody>\n",
       "    <tr>\n",
       "      <th>0</th>\n",
       "      <td>1710.0</td>\n",
       "      <td>0.931715</td>\n",
       "      <td>1</td>\n",
       "      <td>46</td>\n",
       "      <td>2</td>\n",
       "      <td>0.0</td>\n",
       "    </tr>\n",
       "    <tr>\n",
       "      <th>1</th>\n",
       "      <td>2400.0</td>\n",
       "      <td>0.986562</td>\n",
       "      <td>0</td>\n",
       "      <td>45</td>\n",
       "      <td>2</td>\n",
       "      <td>1.0</td>\n",
       "    </tr>\n",
       "    <tr>\n",
       "      <th>2</th>\n",
       "      <td>2500.0</td>\n",
       "      <td>0.933743</td>\n",
       "      <td>1</td>\n",
       "      <td>43</td>\n",
       "      <td>2</td>\n",
       "      <td>1.0</td>\n",
       "    </tr>\n",
       "    <tr>\n",
       "      <th>3</th>\n",
       "      <td>2310.0</td>\n",
       "      <td>0.978715</td>\n",
       "      <td>1</td>\n",
       "      <td>40</td>\n",
       "      <td>2</td>\n",
       "      <td>0.0</td>\n",
       "    </tr>\n",
       "    <tr>\n",
       "      <th>4</th>\n",
       "      <td>2900.0</td>\n",
       "      <td>0.976832</td>\n",
       "      <td>1</td>\n",
       "      <td>50</td>\n",
       "      <td>2</td>\n",
       "      <td>0.0</td>\n",
       "    </tr>\n",
       "  </tbody>\n",
       "</table>\n",
       "</div>"
      ],
      "text/plain": [
       "   total_price  date_of_the_offer  furniture  area  amount_of_rooms  \\\n",
       "0       1710.0           0.931715          1    46                2   \n",
       "1       2400.0           0.986562          0    45                2   \n",
       "2       2500.0           0.933743          1    43                2   \n",
       "3       2310.0           0.978715          1    40                2   \n",
       "4       2900.0           0.976832          1    50                2   \n",
       "\n",
       "   parking_space  \n",
       "0            0.0  \n",
       "1            1.0  \n",
       "2            1.0  \n",
       "3            0.0  \n",
       "4            0.0  "
      ]
     },
     "execution_count": 131,
     "metadata": {},
     "output_type": "execute_result"
    }
   ],
   "source": [
    "now = pd.Timestamp.now()\n",
    "diff = (now - df['date_of_the_offer'])/np.timedelta64(1,'h')\n",
    "X['date_of_the_offer'] = diff \n",
    "min = X['date_of_the_offer'].min()\n",
    "max = X['date_of_the_offer'].max()\n",
    "X['date_of_the_offer'] = 1/(X['date_of_the_offer']/min)**4\n",
    "X.head()"
   ]
  },
  {
   "cell_type": "code",
   "execution_count": 150,
   "metadata": {},
   "outputs": [
    {
     "data": {
      "image/png": "[encoded data removed]",
      "text/plain": [
       "<Figure size 432x288 with 2 Axes>"
      ]
     },
     "metadata": {},
     "output_type": "display_data"
    }
   ],
   "source": [
    "s = X['date_of_the_offer']\n",
    "t = diff\n",
    "\n",
    "plt.subplot(1, 2, 1)\n",
    "plt.plot(t, s, '.-', label='mark')\n",
    "plt.xlabel('time [h]')\n",
    "plt.ylabel('score')\n",
    "plt.title(\"Date of offer\")\n",
    "plt.legend()\n",
    "\n",
    "plt.subplot(1, 2, 2)\n",
    "plt.plot(t, s, 'o-', label='smark')\n",
    "\n",
    "plt.show()"
   ]
  },
  {
   "cell_type": "code",
   "execution_count": 101,
   "metadata": {},
   "outputs": [
    {
     "data": {
      "text/plain": [
       "<matplotlib.axes._subplots.AxesSubplot at 0x12031250>"
      ]
     },
     "execution_count": 101,
     "metadata": {},
     "output_type": "execute_result"
    }
   ],
   "source": [
    "import seaborn as sns\n",
    "\n",
    "\n",
    "# sns.lmplot(\"equipment\", \"price\", data=filtered_class, hue=\"gears\", fit_reg=False, col='modelLine', col_wrap=2)\n"
   ]
  },
  {
   "cell_type": "code",
   "execution_count": null,
   "metadata": {
    "collapsed": true
   },
   "outputs": [],
   "source": []
  },
  {
   "cell_type": "code",
   "execution_count": null,
   "metadata": {
    "collapsed": true
   },
   "outputs": [],
   "source": []
  },
  {
   "cell_type": "code",
   "execution_count": null,
   "metadata": {
    "collapsed": true
   },
   "outputs": [],
   "source": []
  },
  {
   "cell_type": "code",
   "execution_count": null,
   "metadata": {
    "collapsed": true
   },
   "outputs": [],
   "source": []
  },
  {
   "cell_type": "code",
   "execution_count": null,
   "metadata": {
    "collapsed": true
   },
   "outputs": [],
   "source": []
  },
  {
   "cell_type": "markdown",
   "metadata": {},
   "source": [
    "### Feature Scaling"
   ]
  },
  {
   "cell_type": "code",
   "execution_count": 20,
   "metadata": {},
   "outputs": [
    {
     "data": {
      "text/html": [
       "<div>\n",
       "<style>\n",
       "    .dataframe thead tr:only-child th {\n",
       "        text-align: right;\n",
       "    }\n",
       "\n",
       "    .dataframe thead th {\n",
       "        text-align: left;\n",
       "    }\n",
       "\n",
       "    .dataframe tbody tr th {\n",
       "        vertical-align: top;\n",
       "    }\n",
       "</style>\n",
       "<table border=\"1\" class=\"dataframe\">\n",
       "  <thead>\n",
       "    <tr style=\"text-align: right;\">\n",
       "      <th></th>\n",
       "      <th>total_price</th>\n",
       "      <th>furniture</th>\n",
       "      <th>area</th>\n",
       "      <th>amount_of_rooms</th>\n",
       "      <th>parking_space</th>\n",
       "    </tr>\n",
       "  </thead>\n",
       "  <tbody>\n",
       "    <tr>\n",
       "      <th>0</th>\n",
       "      <td>-0.663226</td>\n",
       "      <td>0.243733</td>\n",
       "      <td>-0.239411</td>\n",
       "      <td>-0.252044</td>\n",
       "      <td>-0.727029</td>\n",
       "    </tr>\n",
       "    <tr>\n",
       "      <th>1</th>\n",
       "      <td>-0.247979</td>\n",
       "      <td>-4.102845</td>\n",
       "      <td>-0.277306</td>\n",
       "      <td>-0.252044</td>\n",
       "      <td>1.375461</td>\n",
       "    </tr>\n",
       "    <tr>\n",
       "      <th>2</th>\n",
       "      <td>-0.187798</td>\n",
       "      <td>0.243733</td>\n",
       "      <td>-0.353096</td>\n",
       "      <td>-0.252044</td>\n",
       "      <td>1.375461</td>\n",
       "    </tr>\n",
       "    <tr>\n",
       "      <th>3</th>\n",
       "      <td>-0.302141</td>\n",
       "      <td>0.243733</td>\n",
       "      <td>-0.466781</td>\n",
       "      <td>-0.252044</td>\n",
       "      <td>-0.727029</td>\n",
       "    </tr>\n",
       "    <tr>\n",
       "      <th>4</th>\n",
       "      <td>0.052925</td>\n",
       "      <td>0.243733</td>\n",
       "      <td>-0.087831</td>\n",
       "      <td>-0.252044</td>\n",
       "      <td>-0.727029</td>\n",
       "    </tr>\n",
       "  </tbody>\n",
       "</table>\n",
       "</div>"
      ],
      "text/plain": [
       "   total_price  furniture      area  amount_of_rooms  parking_space\n",
       "0    -0.663226   0.243733 -0.239411        -0.252044      -0.727029\n",
       "1    -0.247979  -4.102845 -0.277306        -0.252044       1.375461\n",
       "2    -0.187798   0.243733 -0.353096        -0.252044       1.375461\n",
       "3    -0.302141   0.243733 -0.466781        -0.252044      -0.727029\n",
       "4     0.052925   0.243733 -0.087831        -0.252044      -0.727029"
      ]
     },
     "execution_count": 20,
     "metadata": {},
     "output_type": "execute_result"
    }
   ],
   "source": [
    "# TODO IMPROVE SCALING! \n",
    "# obecnie jest blad ze nie zwraca w zakresie o-1 tylko np. -5.5-0.2\n",
    "\n",
    "from sklearn.preprocessing import StandardScaler\n",
    "\n",
    "scaler = StandardScaler(with_std=True)\n",
    "\n",
    "X_numeric_sc = scaler.fit_transform(X_numeric)\n",
    "temp = pd.DataFrame(data = X_numeric_sc, columns = X_numeric.columns)\n",
    "temp.head()"
   ]
  },
  {
   "cell_type": "code",
   "execution_count": null,
   "metadata": {
    "collapsed": true
   },
   "outputs": [],
   "source": []
  },
  {
   "cell_type": "code",
   "execution_count": null,
   "metadata": {
    "collapsed": true
   },
   "outputs": [],
   "source": []
  },
  {
   "cell_type": "code",
   "execution_count": null,
   "metadata": {
    "collapsed": true
   },
   "outputs": [],
   "source": []
  },
  {
   "cell_type": "code",
   "execution_count": null,
   "metadata": {
    "collapsed": true
   },
   "outputs": [],
   "source": []
  },
  {
   "cell_type": "code",
   "execution_count": null,
   "metadata": {
    "collapsed": true
   },
   "outputs": [],
   "source": []
  },
  {
   "cell_type": "code",
   "execution_count": null,
   "metadata": {
    "collapsed": true
   },
   "outputs": [],
   "source": []
  },
  {
   "cell_type": "code",
   "execution_count": null,
   "metadata": {
    "collapsed": true
   },
   "outputs": [],
   "source": []
  },
  {
   "cell_type": "code",
   "execution_count": null,
   "metadata": {
    "collapsed": true
   },
   "outputs": [],
   "source": []
  },
  {
   "cell_type": "markdown",
   "metadata": {},
   "source": [
    "### Encode labels for categorical data - text into numbers"
   ]
  },
  {
   "cell_type": "code",
   "execution_count": null,
   "metadata": {
    "collapsed": true
   },
   "outputs": [],
   "source": [
    "from sklearn.preprocessing import LabelEncoder, OneHotEncoder\n",
    "labelencoder_X = LabelEncoder()\n",
    "\n",
    "X[:,0] = labelencoder_X.fit_transform(X[:,0])\n",
    "\n",
    "# enc = OneHotEncoder(categorical_features = [0])\n",
    "# X = enc.fit_transform(X).toarray()"
   ]
  },
  {
   "cell_type": "markdown",
   "metadata": {},
   "source": [
    "### Dispatch dependent matrix and independent vector"
   ]
  },
  {
   "cell_type": "code",
   "execution_count": null,
   "metadata": {
    "collapsed": true
   },
   "outputs": [],
   "source": [
    "# # https://towardsdatascience.com/the-complete-beginners-guide-to-data-cleaning-and-preprocessing-2070b7d4c6d\n",
    "\n",
    "# import matplotlib.pyplot as plt\n",
    "# from sklearn.model_selection import train_test_split\n",
    "# # from sklearn.cross_validation import train_test_split\n",
    "\n",
    "# # Matrix of dependent variables:\n",
    "# X = df.drop(['price', 'parsed_fields', 'offer_from', 'offer_url', 'offer_name', 'offer_thumbnail_url', 'offer_id', 'offer_text', 'creation_time', 'modification_time', 'street'], axis=1)\n",
    "# X.head()\n",
    "# # X=X.values\n",
    "\n",
    "# # #vector of independent variables:\n",
    "# # y = df.loc[:, ['price']]\n",
    "# # y=y.values\n",
    "# # X"
   ]
  },
  {
   "cell_type": "markdown",
   "metadata": {},
   "source": [
    "### Split dataset into train set and test set"
   ]
  },
  {
   "cell_type": "code",
   "execution_count": null,
   "metadata": {
    "collapsed": true
   },
   "outputs": [],
   "source": [
    "# X_train, X_test, y_train, y_test = train_test_split(X, y, test_size = 0.2, random_state = 0)"
   ]
  }
 ],
 "metadata": {
  "kernelspec": {
   "display_name": "Python 3",
   "language": "python",
   "name": "python3"
  },
  "language_info": {
   "codemirror_mode": {
    "name": "ipython",
    "version": 3
   },
   "file_extension": ".py",
   "mimetype": "text/x-python",
   "name": "python",
   "nbconvert_exporter": "python",
   "pygments_lexer": "ipython3",
   "version": "3.6.2"
  }
 },
 "nbformat": 4,
 "nbformat_minor": 2
}
