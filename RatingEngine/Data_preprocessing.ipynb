{
 "cells": [
  {
   "cell_type": "markdown",
   "metadata": {},
   "source": [
    "# Data preprocessing\n",
    "### Input:"
   ]
  },
  {
   "cell_type": "code",
   "execution_count": null,
   "metadata": {
    "collapsed": true
   },
   "outputs": [],
   "source": [
    "import os\n",
    "import sys\n",
    "\n",
    "def find_import(path='.', prevpath=None):\n",
    "    if path == prevpath:\n",
    "        return ''\n",
    "    path = os.path.abspath(path)\n",
    "    cfgfile = os.path.join(path, 'tokens.py')\n",
    "    if os.path.exists(cfgfile):\n",
    "        return cfgfile\n",
    "    return find_import(os.path.dirname(path), path)\n",
    "\n",
    "module_path = find_import()\n",
    "projdir = os.path.dirname(module_path)\n",
    "if projdir not in sys.path:\n",
    "    sys.path.append(projdir)\n",
    "\n",
    "from tokens import sql_config \n",
    "\n",
    "host = sql_config['host']\n",
    "database='roomekbot$offers'\n",
    "user = sql_config['user']\n",
    "password = sql_config['password']\n",
    "sql_query = \"select * from offers where city = 'Warszawa' and business_type = 'rent'\""
   ]
  },
  {
   "cell_type": "markdown",
   "metadata": {},
   "source": [
    "### Import database"
   ]
  },
  {
   "cell_type": "code",
   "execution_count": null,
   "metadata": {
    "collapsed": true
   },
   "outputs": [],
   "source": [
    "import mysql.connector\n",
    "from mysql.connector import Error\n",
    "\n",
    "try:\n",
    "    connection = mysql.connector.connect(host=host, database=database, user=user, password=password)\n",
    "    cursor = connection.cursor()\n",
    "    cursor.execute(sql_query)\n",
    "    records = cursor.fetchall()\n",
    "    \n",
    "    sql_query = \"describe offers\"\n",
    "    cursor = connection.cursor()\n",
    "    cursor.execute(sql_query)\n",
    "    titles = cursor.fetchall()\n",
    "    titles = [x[0] for x in titles]\n",
    "    \n",
    "except Error as e:\n",
    "    print(\"Error reading data from MySQL table\", e)\n",
    "finally:\n",
    "    if (connection.is_connected()):\n",
    "        connection.close()\n",
    "        cursor.close()"
   ]
  },
  {
   "cell_type": "markdown",
   "metadata": {},
   "source": [
    "### Create dataframe"
   ]
  },
  {
   "cell_type": "code",
   "execution_count": null,
   "metadata": {},
   "outputs": [],
   "source": [
    "import pandas as pd\n",
    "import numpy as np\n",
    "\n",
    "df = pd.DataFrame(data=records, columns=titles)\n",
    "df.head()"
   ]
  },
  {
   "cell_type": "markdown",
   "metadata": {},
   "source": [
    "### Get weights from SQL"
   ]
  },
  {
   "cell_type": "code",
   "execution_count": null,
   "metadata": {},
   "outputs": [],
   "source": [
    "try:\n",
    "    connection = mysql.connector.connect(host=host, database=database, user=user, password=password)\n",
    "    cursor = connection.cursor(buffered=True, dictionary=True)\n",
    "    sql_query = \"select * from weights;\"\n",
    "    cursor.execute(sql_query)\n",
    "    weights = cursor.fetchone()\n",
    "    weights = pd.DataFrame.from_dict(weights, orient='index')\n",
    "    \n",
    "except Error as e:\n",
    "    print(\"Error reading data from MySQL table\", e)\n",
    "finally:\n",
    "    if (connection.is_connected()):\n",
    "        connection.close()\n",
    "        cursor.close()\n",
    "        \n",
    "weights.drop(weights.tail(2).index,inplace=True) #drops modification_time and creation_time rows\n",
    "weights.columns = ['Weight']\n",
    "weights"
   ]
  },
  {
   "cell_type": "markdown",
   "metadata": {},
   "source": [
    "### Statistics - show amount of empty cells"
   ]
  },
  {
   "cell_type": "code",
   "execution_count": null,
   "metadata": {
    "collapsed": true
   },
   "outputs": [],
   "source": [
    "# round(df.isnull().sum()/len(df)*1000)/10"
   ]
  },
  {
   "cell_type": "markdown",
   "metadata": {},
   "source": [
    "### Replace None and Nan with mean value or 0"
   ]
  },
  {
   "cell_type": "code",
   "execution_count": null,
   "metadata": {
    "collapsed": true
   },
   "outputs": [],
   "source": [
    "from sklearn.impute import SimpleImputer\n",
    "imputer = SimpleImputer(missing_values = np.nan, strategy = 'mean')\n",
    "# specify which columns to replace with mean value...\n",
    "# imputer = imputer.fit(df[:, 1:3])\n",
    "# df[:, 1:3] = imputer.transform(df[:, 1:3])\n",
    "\n",
    "# ... and which replace with zero:\n",
    "# df[10:14] = df.fillna(0, inplace=True)\n",
    "\n",
    "# or replace all with zeros:\n",
    "df.fillna(0, inplace=True)\n",
    "# df.head()"
   ]
  },
  {
   "cell_type": "markdown",
   "metadata": {},
   "source": [
    "### Select only valuable data"
   ]
  },
  {
   "cell_type": "code",
   "execution_count": null,
   "metadata": {
    "collapsed": true
   },
   "outputs": [],
   "source": [
    "X = df.drop([\n",
    "    'price',\n",
    "    'parsed_fields',\n",
    "    'offer_from',\n",
    "    'offer_url',\n",
    "    'offer_name',\n",
    "    'offer_thumbnail_url',\n",
    "    'offer_id',\n",
    "    'offer_text',\n",
    "    'creation_time',\n",
    "    'modification_time',\n",
    "    'city',\n",
    "    'housing_type',\n",
    "    'business_type',\n",
    "    'pet_friendly',\n",
    "    'rental_for_students',\n",
    "    'non_smokers_only',\n",
    "    'street'], axis=1)\n",
    "\n",
    "X_text = X[['district',\n",
    "            'apartment_level',\n",
    "            'type_of_building',\n",
    "            'type_of_market',\n",
    "            'building_material',\n",
    "            'windows',\n",
    "            'heating',\n",
    "            'type_of_ownership',\n",
    "            'type_of_room',\n",
    "            'preferred_locator',\n",
    "            'fit_out']]\n",
    "\n",
    "X_other = X[['location_latitude',\n",
    "             'location_longitude',\n",
    "#              'date_of_the_offer',\n",
    "             'ready_from',\n",
    "             'scraped_ranking',]]\n",
    "\n",
    "X_irrelevant = X[['additional_rent',\n",
    "             'building_year',\n",
    "             'internet',\n",
    "             'cable_tv',\n",
    "             'bathtub',\n",
    "             'utility_room',\n",
    "             'terrace',\n",
    "             'balcony',\n",
    "             'separate_kitchen',\n",
    "             'basement',\n",
    "             'virtual_walk',\n",
    "             'two_level_apartment',\n",
    "             'connecting_room',\n",
    "             'closed_terrain',\n",
    "             'monitoring_or_security',\n",
    "             'entry_phone',\n",
    "             'antibulglar_doors_windows',\n",
    "             'antibulglar_blinds',\n",
    "             'alarm_system',\n",
    "             'tv',\n",
    "             'phone',\n",
    "             'AC',\n",
    "             'garden',\n",
    "             'oven',\n",
    "             'fridge',\n",
    "             'cooker',\n",
    "             'price_per_m2',\n",
    "             'dishwasher',\n",
    "             'washing_machine',\n",
    "             'elevator',\n",
    "             'security_deposit',]]\n",
    "\n",
    "X = X.drop(list(X_text.columns)+list(X_other.columns)+list(X_irrelevant.columns), axis=1)\n",
    "X.head()"
   ]
  },
  {
   "cell_type": "markdown",
   "metadata": {},
   "source": [
    "### Scale"
   ]
  },
  {
   "cell_type": "code",
   "execution_count": null,
   "metadata": {
    "collapsed": true
   },
   "outputs": [],
   "source": [
    "now = pd.Timestamp.now()\n",
    "diff = (now - df['date_of_the_offer'])/np.timedelta64(1,'h')\n",
    "X['date_of_the_offer'] = diff\n",
    "min = X['date_of_the_offer'].min()\n",
    "max = X['date_of_the_offer'].max()\n",
    "X['date_of_the_offer'] = 1/(X['date_of_the_offer']/min)**4"
   ]
  },
  {
   "cell_type": "code",
   "execution_count": null,
   "metadata": {
    "collapsed": true
   },
   "outputs": [],
   "source": [
    "# TODO NAPRAW SKALOWANIE WSZYZTKICH PÓL!\n",
    "\n",
    "# def scale_uni(n):\n",
    "#     return n.min()/n\n",
    "\n",
    "# d = scale_uni(X['total_price'])\n",
    "# X['total_price'] #.min()\n"
   ]
  },
  {
   "cell_type": "markdown",
   "metadata": {},
   "source": [
    "### Evaluate scores"
   ]
  },
  {
   "cell_type": "code",
   "execution_count": null,
   "metadata": {
    "collapsed": true
   },
   "outputs": [],
   "source": [
    "common_columns = list(X.columns)\n",
    "results = np.multiply(X, weights.T[common_columns])\n",
    "row_sum = np.sum(results, axis=1)\n",
    "results['score'] = row_sum"
   ]
  },
  {
   "cell_type": "markdown",
   "metadata": {},
   "source": [
    "### Sort by best score"
   ]
  },
  {
   "cell_type": "code",
   "execution_count": null,
   "metadata": {
    "collapsed": true
   },
   "outputs": [],
   "source": [
    "results['offer_url'] = df['offer_url']\n",
    "results = results.sort_values(by=['score'], ascending=False)\n",
    "\n",
    "results.head()"
   ]
  },
  {
   "cell_type": "markdown",
   "metadata": {},
   "source": [
    "### Eliminate Outliers"
   ]
  },
  {
   "cell_type": "code",
   "execution_count": null,
   "metadata": {
    "collapsed": true
   },
   "outputs": [],
   "source": [
    "def is_outlier(points, thresh=3.5):\n",
    "    \"\"\"\n",
    "    Returns a boolean array with True if points are outliers and False \n",
    "    otherwise.\n",
    "\n",
    "    Parameters:\n",
    "    -----------\n",
    "        points : An numobservations by numdimensions array of observations\n",
    "        thresh : The modified z-score to use as a threshold. Observations with\n",
    "            a modified z-score (based on the median absolute deviation) greater\n",
    "            than this value will be classified as outliers.\n",
    "\n",
    "    Returns:\n",
    "    --------\n",
    "        mask : A numobservations-length boolean array.\n",
    "\n",
    "    References:\n",
    "    ----------\n",
    "        Boris Iglewicz and David Hoaglin (1993), \"Volume 16: How to Detect and\n",
    "        Handle Outliers\", The ASQC Basic References in Quality Control:\n",
    "        Statistical Techniques, Edward F. Mykytka, Ph.D., Editor. \n",
    "    \"\"\"\n",
    "    if len(points.shape) == 1:\n",
    "        points = points[:,None]\n",
    "    median = np.median(points, axis=0)\n",
    "    diff = np.sum((points - median)**2, axis=-1)\n",
    "    diff = np.sqrt(diff)\n",
    "    med_abs_deviation = np.median(diff)\n",
    "\n",
    "    modified_z_score = 0.6745 * diff / med_abs_deviation\n",
    "\n",
    "    return modified_z_score > thresh"
   ]
  },
  {
   "cell_type": "code",
   "execution_count": null,
   "metadata": {
    "collapsed": true
   },
   "outputs": [],
   "source": [
    "def remove_outliers(x,y):\n",
    "    xf = x[~np.logical_or(is_outlier(x), is_outlier(y))]\n",
    "    yf = y[~np.logical_or(is_outlier(x), is_outlier(y))]\n",
    "    return xf, yf"
   ]
  },
  {
   "cell_type": "code",
   "execution_count": null,
   "metadata": {
    "collapsed": true
   },
   "outputs": [],
   "source": [
    "import matplotlib.pyplot as plt\n",
    "\n",
    "plt.figure(figsize=(15, 3), dpi= 80, facecolor='w', edgecolor='b')\n",
    "\n",
    "plt.subplot(121)\n",
    "x1=X['amount_of_rooms']\n",
    "y1=X['total_price']\n",
    "x1, y1 = remove_outliers(x1,y1)\n",
    "plt.title(\"amount_of_rooms\")\n",
    "plt.xlabel('total_price')\n",
    "plt.ylabel('total_price')\n",
    "# calc the trendline\n",
    "p1 = np.poly1d(np.polyfit(x1, y1, 3))\n",
    "t1 = np.linspace(np.amin(x1), np.amax(x1), 200)\n",
    "plt.plot(x1, y1, '.', t1, p1(t1), '-')\n",
    "\n",
    "plt.subplot(122)\n",
    "x2=X['area']\n",
    "y2=X['total_price']\n",
    "x2, y2 = remove_outliers(x2,y2)\n",
    "plt.title(\"Area vs price\")\n",
    "plt.xlabel('area')\n",
    "plt.ylabel('price')\n",
    "p2 = np.poly1d(np.polyfit(x2, y2, 3))\n",
    "t2 = np.linspace(np.amin(x2), np.amax(x2), 200)\n",
    "plt.plot(x2, y2, '.', t2, p2(t2), '-')\n",
    "\n",
    "plt.show()"
   ]
  },
  {
   "cell_type": "code",
   "execution_count": null,
   "metadata": {
    "collapsed": true
   },
   "outputs": [],
   "source": []
  },
  {
   "cell_type": "code",
   "execution_count": null,
   "metadata": {
    "collapsed": true
   },
   "outputs": [],
   "source": []
  },
  {
   "cell_type": "code",
   "execution_count": null,
   "metadata": {
    "collapsed": true
   },
   "outputs": [],
   "source": []
  },
  {
   "cell_type": "code",
   "execution_count": null,
   "metadata": {
    "collapsed": true
   },
   "outputs": [],
   "source": []
  },
  {
   "cell_type": "code",
   "execution_count": null,
   "metadata": {
    "collapsed": true
   },
   "outputs": [],
   "source": []
  },
  {
   "cell_type": "code",
   "execution_count": null,
   "metadata": {
    "collapsed": true
   },
   "outputs": [],
   "source": [
    "# import seaborn as sns\n",
    "\n",
    "# sns.set(style=\"ticks\", color_codes=True)\n",
    "# iris = sns.load_dataset(\"iris\")\n",
    "# g = sns.pairplot(iris)\n",
    "\n",
    "# df = pd.DataFrame(dict(time=np.arange(500),\n",
    "#                        value=np.random.randn(500).cumsum()))\n",
    "# g = sns.relplot(x=\"time\", y=\"value\", kind=\"line\", data=df)\n",
    "# g.fig.autofmt_xdate()\n",
    "\n",
    "# plt.show()\n",
    "\n",
    "# sns.lmplot(\"equipment\", \"price\", data=filtered_class, hue=\"gears\", fit_reg=False, col='modelLine', col_wrap=2)\n"
   ]
  },
  {
   "cell_type": "code",
   "execution_count": null,
   "metadata": {
    "collapsed": true
   },
   "outputs": [],
   "source": []
  },
  {
   "cell_type": "code",
   "execution_count": null,
   "metadata": {
    "collapsed": true
   },
   "outputs": [],
   "source": []
  },
  {
   "cell_type": "code",
   "execution_count": null,
   "metadata": {
    "collapsed": true
   },
   "outputs": [],
   "source": []
  },
  {
   "cell_type": "code",
   "execution_count": null,
   "metadata": {
    "collapsed": true
   },
   "outputs": [],
   "source": []
  },
  {
   "cell_type": "code",
   "execution_count": null,
   "metadata": {
    "collapsed": true
   },
   "outputs": [],
   "source": []
  },
  {
   "cell_type": "markdown",
   "metadata": {},
   "source": [
    "### Feature Scaling"
   ]
  },
  {
   "cell_type": "code",
   "execution_count": null,
   "metadata": {
    "collapsed": true
   },
   "outputs": [],
   "source": [
    "# TODO IMPROVE SCALING! \n",
    "# obecnie jest blad ze nie zwraca w zakresie o-1 tylko np. -5.5-0.2\n",
    "\n",
    "from sklearn.preprocessing import StandardScaler\n",
    "\n",
    "scaler = StandardScaler(with_std=True)\n",
    "\n",
    "X_numeric_sc = scaler.fit_transform(X_numeric)\n",
    "temp = pd.DataFrame(data = X_numeric_sc, columns = X_numeric.columns)\n",
    "temp.head()"
   ]
  },
  {
   "cell_type": "code",
   "execution_count": null,
   "metadata": {
    "collapsed": true
   },
   "outputs": [],
   "source": []
  },
  {
   "cell_type": "code",
   "execution_count": null,
   "metadata": {
    "collapsed": true
   },
   "outputs": [],
   "source": []
  },
  {
   "cell_type": "code",
   "execution_count": null,
   "metadata": {
    "collapsed": true
   },
   "outputs": [],
   "source": []
  },
  {
   "cell_type": "code",
   "execution_count": null,
   "metadata": {
    "collapsed": true
   },
   "outputs": [],
   "source": []
  },
  {
   "cell_type": "code",
   "execution_count": null,
   "metadata": {
    "collapsed": true
   },
   "outputs": [],
   "source": []
  },
  {
   "cell_type": "code",
   "execution_count": null,
   "metadata": {
    "collapsed": true
   },
   "outputs": [],
   "source": []
  },
  {
   "cell_type": "code",
   "execution_count": null,
   "metadata": {
    "collapsed": true
   },
   "outputs": [],
   "source": []
  },
  {
   "cell_type": "code",
   "execution_count": null,
   "metadata": {
    "collapsed": true
   },
   "outputs": [],
   "source": []
  },
  {
   "cell_type": "markdown",
   "metadata": {},
   "source": [
    "### Encode labels for categorical data - text into numbers"
   ]
  },
  {
   "cell_type": "code",
   "execution_count": null,
   "metadata": {
    "collapsed": true
   },
   "outputs": [],
   "source": [
    "from sklearn.preprocessing import LabelEncoder, OneHotEncoder\n",
    "labelencoder_X = LabelEncoder()\n",
    "\n",
    "X[:,0] = labelencoder_X.fit_transform(X[:,0])\n",
    "\n",
    "# enc = OneHotEncoder(categorical_features = [0])\n",
    "# X = enc.fit_transform(X).toarray()"
   ]
  },
  {
   "cell_type": "markdown",
   "metadata": {},
   "source": [
    "### Dispatch dependent matrix and independent vector"
   ]
  },
  {
   "cell_type": "code",
   "execution_count": null,
   "metadata": {
    "collapsed": true
   },
   "outputs": [],
   "source": [
    "# # https://towardsdatascience.com/the-complete-beginners-guide-to-data-cleaning-and-preprocessing-2070b7d4c6d\n",
    "\n",
    "# import matplotlib.pyplot as plt\n",
    "# from sklearn.model_selection import train_test_split\n",
    "# # from sklearn.cross_validation import train_test_split\n",
    "\n",
    "# # Matrix of dependent variables:\n",
    "# X = df.drop(['price', 'parsed_fields', 'offer_from', 'offer_url', 'offer_name', 'offer_thumbnail_url', 'offer_id', 'offer_text', 'creation_time', 'modification_time', 'street'], axis=1)\n",
    "# X.head()\n",
    "# # X=X.values\n",
    "\n",
    "# # #vector of independent variables:\n",
    "# # y = df.loc[:, ['price']]\n",
    "# # y=y.values\n",
    "# # X"
   ]
  },
  {
   "cell_type": "markdown",
   "metadata": {},
   "source": [
    "### Split dataset into train set and test set"
   ]
  },
  {
   "cell_type": "code",
   "execution_count": null,
   "metadata": {
    "collapsed": true
   },
   "outputs": [],
   "source": [
    "# X_train, X_test, y_train, y_test = train_test_split(X, y, test_size = 0.2, random_state = 0)"
   ]
  }
 ],
 "metadata": {
  "kernelspec": {
   "display_name": "Python 3",
   "language": "python",
   "name": "python3"
  },
  "language_info": {
   "codemirror_mode": {
    "name": "ipython",
    "version": 3
   },
   "file_extension": ".py",
   "mimetype": "text/x-python",
   "name": "python",
   "nbconvert_exporter": "python",
   "pygments_lexer": "ipython3",
   "version": "3.6.2"
  }
 },
 "nbformat": 4,
 "nbformat_minor": 2
}
